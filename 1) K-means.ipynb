{
 "cells": [
  {
   "cell_type": "markdown",
   "metadata": {},
   "source": [
    "## K-means for crustal and lithospheric configurations"
   ]
  },
  {
   "cell_type": "markdown",
   "metadata": {},
   "source": [
    "The overall goal for this workbook is to quantitatively investigate how $K$-means clustering clusters the anomalies, in order to see if this can lead to automated classification. Although $K$-means is an unsupervised learning technique, one can classify using $K$-means by looking at which points are in the same cluster as known examples. These known examples can be synthetic or real world data, but crucially the lithospheric configuration must be known reasonably accurately.\n",
    "\n",
    "The benefits of this method over others is that the \"training\" time is considerably lower."
   ]
  },
  {
   "cell_type": "code",
   "execution_count": 1,
   "metadata": {},
   "outputs": [],
   "source": [
    "# Imports\n",
    "import numpy as np\n",
    "import pandas as pd\n",
    "from sklearn.cluster import KMeans\n",
    "from kneed import KneeLocator\n",
    "import matplotlib.pyplot as plt\n",
    "%matplotlib inline"
   ]
  },
  {
   "cell_type": "code",
   "execution_count": 2,
   "metadata": {},
   "outputs": [
    {
     "data": {
      "text/html": [
       "<div>\n",
       "<style scoped>\n",
       "    .dataframe tbody tr th:only-of-type {\n",
       "        vertical-align: middle;\n",
       "    }\n",
       "\n",
       "    .dataframe tbody tr th {\n",
       "        vertical-align: top;\n",
       "    }\n",
       "\n",
       "    .dataframe thead th {\n",
       "        text-align: right;\n",
       "    }\n",
       "</style>\n",
       "<table border=\"1\" class=\"dataframe\">\n",
       "  <thead>\n",
       "    <tr style=\"text-align: right;\">\n",
       "      <th></th>\n",
       "      <th>x (km)</th>\n",
       "      <th>Airy anom (mGal)</th>\n",
       "      <th>Bouguer anom (mGal)</th>\n",
       "      <th>Geoid anom (mGal)</th>\n",
       "    </tr>\n",
       "  </thead>\n",
       "  <tbody>\n",
       "    <tr>\n",
       "      <th>count</th>\n",
       "      <td>74.000000</td>\n",
       "      <td>74.000000</td>\n",
       "      <td>74.000000</td>\n",
       "      <td>74.000000</td>\n",
       "    </tr>\n",
       "    <tr>\n",
       "      <th>mean</th>\n",
       "      <td>1991.183919</td>\n",
       "      <td>0.254370</td>\n",
       "      <td>-13.811054</td>\n",
       "      <td>-1.701378</td>\n",
       "    </tr>\n",
       "    <tr>\n",
       "      <th>std</th>\n",
       "      <td>1158.191535</td>\n",
       "      <td>24.654458</td>\n",
       "      <td>41.233023</td>\n",
       "      <td>32.449100</td>\n",
       "    </tr>\n",
       "    <tr>\n",
       "      <th>min</th>\n",
       "      <td>73.740000</td>\n",
       "      <td>-49.369000</td>\n",
       "      <td>-106.680000</td>\n",
       "      <td>-87.201000</td>\n",
       "    </tr>\n",
       "    <tr>\n",
       "      <th>25%</th>\n",
       "      <td>1028.550000</td>\n",
       "      <td>-14.855500</td>\n",
       "      <td>-31.447250</td>\n",
       "      <td>-11.340750</td>\n",
       "    </tr>\n",
       "    <tr>\n",
       "      <th>50%</th>\n",
       "      <td>1991.285000</td>\n",
       "      <td>0.626500</td>\n",
       "      <td>-3.374000</td>\n",
       "      <td>-4.345000</td>\n",
       "    </tr>\n",
       "    <tr>\n",
       "      <th>75%</th>\n",
       "      <td>2939.055000</td>\n",
       "      <td>15.243500</td>\n",
       "      <td>10.118000</td>\n",
       "      <td>6.677000</td>\n",
       "    </tr>\n",
       "    <tr>\n",
       "      <th>max</th>\n",
       "      <td>3965.210000</td>\n",
       "      <td>56.109000</td>\n",
       "      <td>57.201000</td>\n",
       "      <td>73.660000</td>\n",
       "    </tr>\n",
       "  </tbody>\n",
       "</table>\n",
       "</div>"
      ],
      "text/plain": [
       "            x (km)  Airy anom (mGal)  Bouguer anom (mGal)  Geoid anom (mGal)\n",
       "count    74.000000         74.000000            74.000000          74.000000\n",
       "mean   1991.183919          0.254370           -13.811054          -1.701378\n",
       "std    1158.191535         24.654458            41.233023          32.449100\n",
       "min      73.740000        -49.369000          -106.680000         -87.201000\n",
       "25%    1028.550000        -14.855500           -31.447250         -11.340750\n",
       "50%    1991.285000          0.626500            -3.374000          -4.345000\n",
       "75%    2939.055000         15.243500            10.118000           6.677000\n",
       "max    3965.210000         56.109000            57.201000          73.660000"
      ]
     },
     "execution_count": 2,
     "metadata": {},
     "output_type": "execute_result"
    }
   ],
   "source": [
    "# Reading in raw data.\n",
    "anom_df = pd.read_csv(\"bag_anom.csv\")\n",
    "anom_df.describe()"
   ]
  },
  {
   "cell_type": "code",
   "execution_count": 3,
   "metadata": {},
   "outputs": [],
   "source": [
    "input_list = ['Airy anom (mGal)', 'Bouguer anom (mGal)', 'Geoid anom (mGal)']\n",
    "features = anom_df[input_list].values"
   ]
  },
  {
   "cell_type": "code",
   "execution_count": 4,
   "metadata": {},
   "outputs": [],
   "source": [
    "# Elbow method\n",
    "min_SSEs = []\n",
    "for k in range(2,15):\n",
    "    kmeans_obj = KMeans(init=\"random\",\n",
    "                    n_clusters=k,\n",
    "                    n_init=100,\n",
    "                    max_iter=300,\n",
    "                    random_state=42)\n",
    "    kmeans_obj.fit(features)\n",
    "    min_SSEs.append(kmeans_obj.inertia_)"
   ]
  },
  {
   "cell_type": "code",
   "execution_count": 5,
   "metadata": {},
   "outputs": [
    {
     "data": {
      "text/plain": [
       "Text(0, 0.5, 'Min SSE')"
      ]
     },
     "execution_count": 5,
     "metadata": {},
     "output_type": "execute_result"
    },
    {
     "data": {
      "image/png": "[encoded data removed]",
      "text/plain": [
       "<Figure size 432x288 with 1 Axes>"
      ]
     },
     "metadata": {
      "needs_background": "light"
     },
     "output_type": "display_data"
    }
   ],
   "source": [
    "plt.scatter(x = range(2,15), y = min_SSEs, color = (0,0,0))\n",
    "plt.plot(range(2,15), min_SSEs, color = (0,0,0))\n",
    "plt.xlabel(xlabel = 'K')\n",
    "plt.ylabel(ylabel = 'Min SSE')"
   ]
  },
  {
   "cell_type": "code",
   "execution_count": 6,
   "metadata": {},
   "outputs": [
    {
     "data": {
      "text/plain": [
       "6"
      ]
     },
     "execution_count": 6,
     "metadata": {},
     "output_type": "execute_result"
    }
   ],
   "source": [
    "knee_loc = KneeLocator(range(2,15),\n",
    "                       min_SSEs,\n",
    "                       curve = 'convex',\n",
    "                       direction = 'decreasing')\n",
    "knee_loc.elbow"
   ]
  },
  {
   "cell_type": "markdown",
   "metadata": {},
   "source": [
    "The elbow is located at $K = 6$, which is fitting because we have 6 different configurations. Let us see how the predictions look for $K = 6$."
   ]
  },
  {
   "cell_type": "code",
   "execution_count": 7,
   "metadata": {},
   "outputs": [
    {
     "data": {
      "text/plain": [
       "<matplotlib.legend.Legend at 0x25c0c7264c0>"
      ]
     },
     "execution_count": 7,
     "metadata": {},
     "output_type": "execute_result"
    },
    {
     "data": {
      "image/png": "[encoded data removed]",
      "text/plain": [
       "<Figure size 432x288 with 1 Axes>"
      ]
     },
     "metadata": {
      "needs_background": "light"
     },
     "output_type": "display_data"
    }
   ],
   "source": [
    "# Generating plots for the data.\n",
    "k = 6\n",
    "kmeans_obj = KMeans(init=\"random\",\n",
    "                    n_clusters=k,\n",
    "                    n_init=100,\n",
    "                    max_iter=300,\n",
    "                    random_state=42)\n",
    "kmeans_obj.fit(features)\n",
    "anom_df['cluster'] = kmeans_obj.labels_\n",
    "\n",
    "marker_dict = {0:'x',\n",
    "               1:'|',\n",
    "               2:'_',\n",
    "               3:'.',\n",
    "               4:'+',\n",
    "               5:'1'}\n",
    "\n",
    "groups = anom_df.groupby('cluster')\n",
    "for name, group in groups:\n",
    "    plt.plot(group['x (km)'],\n",
    "             group['Bouguer anom (mGal)'],\n",
    "             marker=marker_dict[name],\n",
    "             linestyle='',\n",
    "             markersize=10,\n",
    "             label=name,\n",
    "             color = (0,0,0))\n",
    "plt.xlabel(xlabel = 'x (km)')\n",
    "plt.ylabel(ylabel = 'Bouguer anom (mGal)')\n",
    "plt.legend(bbox_to_anchor = (1.05,1), loc = 'upper left', borderaxespad = 0, labels = ['Cluster 1', 'Cluster 2', 'Cluster 3', 'Cluster 4', 'Cluster 5', 'Cluster 6'])"
   ]
  },
  {
   "cell_type": "markdown",
   "metadata": {},
   "source": [
    "There are several interesting characteristics of the plot. Using only these features, the $K$-means method just segments the data into bands, such that if the value of the anomalies fall into these bands they are allocated to that cluster. This presents classification issues with the crustal thickening and lithospheric thickening points, which are just assigned to the same cluster based on this banding. The banding also subdivides the default configuration into two groups, based on whether or not the points are above a value that is approximately zero. This leaves less clusters available to actually discern the groups of interest.\n",
    "\n",
    "Immediately, this can be used to classify points near the stationary points relatively well, except for the crustal and lithospheric thickening. Currently, the model only considers the value of each individual anomaly separately, but we can artificially construct features that are a function of two or more anomalies, and see how these features are handled in the $K$-means method."
   ]
  },
  {
   "cell_type": "markdown",
   "metadata": {},
   "source": [
    "### Using quadratic features"
   ]
  },
  {
   "cell_type": "code",
   "execution_count": 8,
   "metadata": {},
   "outputs": [],
   "source": [
    "# Generating quadratic features using\n",
    "# difference of two squares and cross terms.\n",
    "anom_df['f12(A,B)'] = anom_df['Airy anom (mGal)']**2 - anom_df['Bouguer anom (mGal)']**2\n",
    "anom_df['f12(B,G)'] = anom_df['Bouguer anom (mGal)']**2 - anom_df['Geoid anom (mGal)']**2\n",
    "anom_df['f12(A,G)'] = anom_df['Airy anom (mGal)']**2 - anom_df['Geoid anom (mGal)']**2\n",
    "anom_df['f22(A,B)'] = anom_df['Airy anom (mGal)']*anom_df['Bouguer anom (mGal)']\n",
    "anom_df['f22(B,G)'] = anom_df['Bouguer anom (mGal)']*anom_df['Geoid anom (mGal)']\n",
    "anom_df['f22(A,G)'] = anom_df['Airy anom (mGal)']*anom_df['Geoid anom (mGal)']"
   ]
  },
  {
   "cell_type": "code",
   "execution_count": 9,
   "metadata": {},
   "outputs": [],
   "source": [
    "quad_input_list = ['Airy anom (mGal)', 'Bouguer anom (mGal)', 'Geoid anom (mGal)',\n",
    "              'f12(A,B)', 'f12(B,G)', 'f12(A,G)', 'f22(A,B)', 'f22(B,G)', 'f22(A,G)']\n",
    "quad_features = anom_df[quad_input_list].values"
   ]
  },
  {
   "cell_type": "code",
   "execution_count": 10,
   "metadata": {},
   "outputs": [],
   "source": [
    "# Elbow method\n",
    "min_SSEs = []\n",
    "for k in range(2,15):\n",
    "    kmeans_obj = KMeans(init=\"random\",\n",
    "                    n_clusters=k,\n",
    "                    n_init=100,\n",
    "                    max_iter=300,\n",
    "                    random_state=42)\n",
    "    kmeans_obj.fit(quad_features)\n",
    "    min_SSEs.append(kmeans_obj.inertia_)"
   ]
  },
  {
   "cell_type": "code",
   "execution_count": 11,
   "metadata": {},
   "outputs": [
    {
     "data": {
      "text/plain": [
       "Text(0, 0.5, 'Min SSE')"
      ]
     },
     "execution_count": 11,
     "metadata": {},
     "output_type": "execute_result"
    },
    {
     "data": {
      "image/png": "[encoded data removed]",
      "text/plain": [
       "<Figure size 432x288 with 1 Axes>"
      ]
     },
     "metadata": {
      "needs_background": "light"
     },
     "output_type": "display_data"
    }
   ],
   "source": [
    "plt.scatter(x = range(2,15), y = min_SSEs, color = (0,0,0))\n",
    "plt.plot(range(2,15), min_SSEs, color = (0,0,0))\n",
    "plt.xlabel(xlabel = 'K')\n",
    "plt.ylabel(ylabel = 'Min SSE')"
   ]
  },
  {
   "cell_type": "code",
   "execution_count": 12,
   "metadata": {},
   "outputs": [
    {
     "data": {
      "text/plain": [
       "5"
      ]
     },
     "execution_count": 12,
     "metadata": {},
     "output_type": "execute_result"
    }
   ],
   "source": [
    "knee_loc = KneeLocator(range(2,15),\n",
    "                       min_SSEs,\n",
    "                       curve = 'convex',\n",
    "                       direction = 'decreasing')\n",
    "knee_loc.elbow"
   ]
  },
  {
   "cell_type": "markdown",
   "metadata": {},
   "source": [
    "Some calculations of this show the elbow at $K = 5$. We know that we have 6 different configurations, so we will just use $K = 6$ anyway."
   ]
  },
  {
   "cell_type": "code",
   "execution_count": 13,
   "metadata": {},
   "outputs": [
    {
     "data": {
      "text/plain": [
       "<matplotlib.legend.Legend at 0x25c0c726460>"
      ]
     },
     "execution_count": 13,
     "metadata": {},
     "output_type": "execute_result"
    },
    {
     "data": {
      "image/png": "[encoded data removed]",
      "text/plain": [
       "<Figure size 432x288 with 1 Axes>"
      ]
     },
     "metadata": {
      "needs_background": "light"
     },
     "output_type": "display_data"
    }
   ],
   "source": [
    "# Plotting the data.\n",
    "k = 6\n",
    "kmeans_obj = KMeans(init=\"random\",\n",
    "                    n_clusters=k,\n",
    "                    n_init=100,\n",
    "                    max_iter=300,\n",
    "                    random_state=42)\n",
    "kmeans_obj.fit(quad_features)\n",
    "anom_df['corr cluster'] = kmeans_obj.labels_\n",
    "\n",
    "groups = anom_df.groupby('corr cluster')\n",
    "for name, group in groups:\n",
    "    plt.plot(group['x (km)'],\n",
    "             group['Bouguer anom (mGal)'],\n",
    "             marker = marker_dict[name],\n",
    "             linestyle='',\n",
    "             markersize=10,\n",
    "             label = name,\n",
    "             color = (0,0,0))\n",
    "plt.xlabel(xlabel = 'x (km)')\n",
    "plt.ylabel(ylabel = 'Bouguer anom (mGal)')\n",
    "plt.legend(bbox_to_anchor = (1.05,1), loc = 'upper left', borderaxespad = 0, labels = ['Cluster 1', 'Cluster 2', 'Cluster 3', 'Cluster 4', 'Cluster 5', 'Cluster 6'])"
   ]
  },
  {
   "cell_type": "markdown",
   "metadata": {},
   "source": [
    "This is a much closer classification to what we expect from the data. Now, we can see that the default configuration is clustered well, and we can discern between crustal and lithospheric thickening to a much better degree. There are still some misclassified points that are classified as crustal thinning instead of crustal thickening. However, this is a much stronger attempt at classifying using the $K$-means method.\n",
    "\n",
    "Certainly, it seems that one can accurately classify the stationary points of the gravity and geoid anomalies. If one can determine the synthetic gravity and geoid anomalies close to stationary points, then one ought to be able to classify real world stationary anomaly points well using the $K$-means method."
   ]
  }
 ],
 "metadata": {
  "kernelspec": {
   "display_name": "Python 3",
   "language": "python",
   "name": "python3"
  },
  "language_info": {
   "codemirror_mode": {
    "name": "ipython",
    "version": 3
   },
   "file_extension": ".py",
   "mimetype": "text/x-python",
   "name": "python",
   "nbconvert_exporter": "python",
   "pygments_lexer": "ipython3",
   "version": "3.8.5"
  }
 },
 "nbformat": 4,
 "nbformat_minor": 4
}
